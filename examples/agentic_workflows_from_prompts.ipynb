{
  "nbformat": 4,
  "nbformat_minor": 0,
  "metadata": {
    "colab": {
      "provenance": [],
      "authorship_tag": "ABX9TyMICQNJc9RQREBYwA+fouNm",
      "include_colab_link": true
    },
    "kernelspec": {
      "name": "python3",
      "display_name": "Python 3"
    },
    "language_info": {
      "name": "python"
    }
  },
  "cells": [
    {
      "cell_type": "markdown",
      "metadata": {
        "id": "view-in-github",
        "colab_type": "text"
      },
      "source": [
        "<a href=\"https://colab.research.google.com/github/octopus2023-inc/gensphere/blob/main/examples/agentic_workflows_from_prompts.ipynb\" target=\"_parent\"><img src=\"https://colab.research.google.com/assets/colab-badge.svg\" alt=\"Open In Colab\"/></a>"
      ]
    },
    {
      "cell_type": "markdown",
      "source": [
        "# Agentic workflows from prompts"
      ],
      "metadata": {
        "id": "xjWG43D__MVC"
      }
    },
    {
      "cell_type": "markdown",
      "source": [
        "This notebook will demonstrate how to create agentic workflows from high-level user prompts. GenSphere will process the prompt and create an execution graph of LLM API calls and function calls.   It will also attach tools for function calling and schemas for structured outputs along the way."
      ],
      "metadata": {
        "id": "cF9AzzQY_P2N"
      }
    },
    {
      "cell_type": "markdown",
      "source": [
        "**Important:** The project uses openAI's o1-preview to generate the agentic workflow. o1-preview is available only to certain tiers, please check openAI documentation [here](https://help.openai.com/en/articles/9824962-openai-o1-preview-and-o1-mini-usage-limits-on-chatgpt-and-the-api)"
      ],
      "metadata": {
        "id": "UzAI5bAvF2pE"
      }
    },
    {
      "cell_type": "markdown",
      "source": [
        "Start by installing gensphere and importing modules"
      ],
      "metadata": {
        "id": "6JjCm_V3AYis"
      }
    },
    {
      "cell_type": "code",
      "source": [
        "!pip install gensphere"
      ],
      "metadata": {
        "collapsed": true,
        "id": "ZmCNqaFQ71JD"
      },
      "execution_count": null,
      "outputs": []
    },
    {
      "cell_type": "code",
      "source": [
        "from gensphere.hub import Hub\n",
        "from gensphere.genflow import GenFlow\n",
        "from gensphere.visualizer import Visualizer\n",
        "import os\n",
        "import logging\n",
        "logging.getLogger('composio').setLevel(logging.WARNING)"
      ],
      "metadata": {
        "id": "LMVWuzkM6tAA"
      },
      "execution_count": null,
      "outputs": []
    },
    {
      "cell_type": "code",
      "source": [
        "os.environ['OPENAI_API_KEY']=\"PLACE-YOUR-OPENAI-API-KEY-HERE\" #Notice that this example will use o1-preview, which is not available to all user Tiers."
      ],
      "metadata": {
        "id": "-Fv_BnXI7pRb"
      },
      "execution_count": null,
      "outputs": []
    },
    {
      "cell_type": "markdown",
      "source": [
        "Now, we will pull from the Hub a GenSphere project, which takes as input a `task.txt` file and outputs a GenSphere project that accomplishes that task.The yml, functions and schemas file are saved locally after the flow execution completes as `text_to_workflow_result_yaml.yaml`, `text_to_workflow_result_functions.py`, `text_to_workflow_result_schemas.py` respectively."
      ],
      "metadata": {
        "id": "jlTG-Et6AeHm"
      }
    },
    {
      "cell_type": "code",
      "source": [
        "hub=Hub()\n",
        "hub.pull(push_id='ddd4bfda-a33c-48e7-810c-4a1768973b9a',\n",
        "         yaml_filename='yaml_file.yaml',\n",
        "         functions_filename='gensphere_functions.py',\n",
        "         schema_filename='gensphere_schemas.py',\n",
        "         save_to_disk=True)"
      ],
      "metadata": {
        "collapsed": true,
        "id": "uu1F_2N76fXj"
      },
      "execution_count": null,
      "outputs": []
    },
    {
      "cell_type": "markdown",
      "source": [
        "The files `yaml_file.yaml`, `gensphere_functions.py`, `gensphere_schemas.py` have been pulled from the hub saved locally.\n",
        "\n",
        "You can visualize nodes in this GenSphere project with the Visualizer class, but we won't do it for now."
      ],
      "metadata": {
        "id": "H1_Ni2cIAptL"
      }
    },
    {
      "cell_type": "markdown",
      "source": [
        "Now, let's execute the project by defining a task."
      ],
      "metadata": {
        "id": "w0sU1uSHAxw4"
      }
    },
    {
      "cell_type": "code",
      "source": [
        "task = \"\"\"Your task is to generate script for 10 YouTube videos, about 5 minutes long each.\n",
        "Our aim is to generate content for YouTube in an ethical way, while also ensuring we will go viral.\n",
        "You should discover which are the topics with the highest chance of going viral today by searching the web.\n",
        "Divide this search into multiple granular steps to get the best out of it. You can use Tavily and Firecrawl_scrape\n",
        "to search the web and scrape URL contents, respectively. Then you should think about how to present these topics in order to make the video go viral.\n",
        "Your script should contain detailed text (which will be passed to a text-to-speech model for voiceover),\n",
        "as well as visual elements which will be passed to as prompts to image AI models like MidJourney.\n",
        "You have full autonomy to create highly viral videos following the guidelines above.\n",
        "Be creative and make sure you have a winning strategy.\"\"\"\n",
        "\n",
        "\n",
        "with open(\"task.txt\", \"w\") as text_file:\n",
        "    text_file.write(task)\n",
        "\n",
        "flow=GenFlow('yaml_file.yaml','gensphere_functions.py','gensphere_schemas.py')\n",
        "flow.parse_yaml()\n",
        "flow.run()"
      ],
      "metadata": {
        "id": "HFh8dW507IlK"
      },
      "execution_count": null,
      "outputs": []
    },
    {
      "cell_type": "markdown",
      "source": [
        "Your agentic workflow was created, and its associated files were saved locally as `text_to_workflow_result_yaml.yaml`, `text_to_workflow_result_functions.py`, `text_to_workflow_result_schemas.py`. You can visualize your project with the Visualizer class:"
      ],
      "metadata": {
        "id": "xpB-mCPTNZPb"
      }
    },
    {
      "cell_type": "code",
      "source": [
        "Visualizer('text_to_workflow_result_yaml.yaml',\n",
        "           'text_to_workflow_result_functions.py',\n",
        "           'text_to_workflow_result_schemas.py',\n",
        "           address='127.0.0.1', port=8050).start_visualization()"
      ],
      "metadata": {
        "id": "9YlVNEV17SN2"
      },
      "execution_count": null,
      "outputs": []
    },
    {
      "cell_type": "markdown",
      "source": [
        "Now that our agentic workflow is ready, we can execute it. We will need to add a few more api keys."
      ],
      "metadata": {
        "id": "4PPQkbyxJ1dK"
      }
    },
    {
      "cell_type": "code",
      "source": [
        "os.environ['COMPOSIO_API_KEY']=\"place-your-api-key\" #if you don't have one, visit composio.dev\n",
        "os.environ['FIRECRAWL_API_KEY']=\"place-your-api-key\" # if you don't have one, visit firecrawl.dev\n",
        "os.environ['TAVILY_API_KEY']=\"place-your-api-key\" # if you don't have one, visit tavily"
      ],
      "metadata": {
        "id": "Czm8lOYT7Xw3"
      },
      "execution_count": null,
      "outputs": []
    },
    {
      "cell_type": "code",
      "source": [
        "!composio add firecrawl #for this project, we will be using firecrawl. Get an API key and add it by following the steps here."
      ],
      "metadata": {
        "id": "hzOkXxet9Gwp"
      },
      "execution_count": null,
      "outputs": []
    },
    {
      "cell_type": "code",
      "source": [
        "!composio add tavily #for this project, we will be using tavily. Get an API key and add it by following the steps here."
      ],
      "metadata": {
        "id": "E5inaZRJ9HZz"
      },
      "execution_count": null,
      "outputs": []
    },
    {
      "cell_type": "code",
      "source": [
        "flow=GenFlow('text_to_workflow_result_yaml.yaml',\n",
        "           'text_to_workflow_result_functions.py',\n",
        "           'text_to_workflow_result_schemas.py')\n",
        "flow.parse_yaml()\n",
        "flow.run()"
      ],
      "metadata": {
        "collapsed": true,
        "id": "UtYX-fqO9Qk8"
      },
      "execution_count": null,
      "outputs": []
    },
    {
      "cell_type": "markdown",
      "source": [
        "You can now access outputs with `flow.outputs` (which returns a dictionary, where keys are node names and values are also dictionaries, with one key for each node output as defined in the yaml file `text_to_workflow_result_yaml`)."
      ],
      "metadata": {
        "id": "8pd1gl6zL-oT"
      }
    },
    {
      "cell_type": "code",
      "source": [
        "flow.outputs"
      ],
      "metadata": {
        "id": "_Kb80KjmMYWM"
      },
      "execution_count": null,
      "outputs": []
    },
    {
      "cell_type": "markdown",
      "source": [
        "By looking at your worklflow's graph, you can access final node outputs. As each call to openAI's API may return different results, check the visualization above to understand exactly how your project was created and what was the final node. This will allow you to adapt the code block below accordingly."
      ],
      "metadata": {
        "id": "kuZypKMBMZ_r"
      }
    },
    {
      "cell_type": "code",
      "source": [
        "#Print final outputs. You should adapt this according to how your project was created. Check the visualization above.\n",
        "for i in flow.outputs.get('compile_final_output').get('final_output'):\n",
        "  script=i.get('script')\n",
        "  visual_prompt=i.get('visual_prompt')\n",
        "  print(f'script: {script}')\n",
        "  print(f'visual prompt: {visual_prompt}')"
      ],
      "metadata": {
        "id": "7oUARdvZ9RTt"
      },
      "execution_count": null,
      "outputs": []
    }
  ]
}